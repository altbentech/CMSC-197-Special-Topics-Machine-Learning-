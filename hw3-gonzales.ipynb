{
 "cells": [
  {
   "cell_type": "markdown",
   "id": "e8b1a8ab",
   "metadata": {},
   "source": [
    "Benjie Gonzales Jr. - 201909128"
   ]
  },
  {
   "cell_type": "markdown",
   "id": "2c7ab7fd",
   "metadata": {},
   "source": [
    "BS in Computer Science Iv"
   ]
  },
  {
   "cell_type": "markdown",
   "id": "53c16b36",
   "metadata": {},
   "source": [
    " "
   ]
  },
  {
   "cell_type": "markdown",
   "id": "75e0e3b4",
   "metadata": {},
   "source": [
    "### Homework 3"
   ]
  },
  {
   "cell_type": "code",
   "execution_count": 1,
   "id": "1a71d341",
   "metadata": {},
   "outputs": [],
   "source": [
    "##### Standard Libraries #####\n",
    "import numpy as np\n",
    "import pandas as pd\n",
    "import matplotlib.pyplot as plt\n",
    "import seaborn as sns\n",
    "sns.set_style(\"whitegrid\")\n",
    "sns.set_context(\"poster\")\n",
    "\n",
    "%matplotlib inline\n",
    "\n",
    "##### For Preprocessing #####\n",
    "from sklearn.model_selection import train_test_split\n",
    "from sklearn.preprocessing import PolynomialFeatures, scale\n",
    "\n",
    "##### For Building the Model #####\n",
    "from sklearn.linear_model import LinearRegression\n",
    "from sklearn.pipeline import make_pipeline\n",
    "\n",
    "##### For Validation of the Model #####\n",
    "from sklearn.metrics import r2_score, mean_absolute_error, mean_squared_error\n",
    "from sklearn.model_selection import cross_val_score\n",
    "\n",
    "##### random module ######\n",
    "import random"
   ]
  },
  {
   "cell_type": "markdown",
   "id": "8d5068fb",
   "metadata": {},
   "source": [
    "<b>1. Load Advertising.csv dataset using pandas</b>"
   ]
  },
  {
   "cell_type": "code",
   "execution_count": 2,
   "id": "18472c50",
   "metadata": {},
   "outputs": [
    {
     "data": {
      "text/html": [
       "<div>\n",
       "<style scoped>\n",
       "    .dataframe tbody tr th:only-of-type {\n",
       "        vertical-align: middle;\n",
       "    }\n",
       "\n",
       "    .dataframe tbody tr th {\n",
       "        vertical-align: top;\n",
       "    }\n",
       "\n",
       "    .dataframe thead th {\n",
       "        text-align: right;\n",
       "    }\n",
       "</style>\n",
       "<table border=\"1\" class=\"dataframe\">\n",
       "  <thead>\n",
       "    <tr style=\"text-align: right;\">\n",
       "      <th></th>\n",
       "      <th>Unnamed: 0</th>\n",
       "      <th>TV</th>\n",
       "      <th>Radio</th>\n",
       "      <th>Newspaper</th>\n",
       "      <th>Sales</th>\n",
       "    </tr>\n",
       "  </thead>\n",
       "  <tbody>\n",
       "    <tr>\n",
       "      <th>0</th>\n",
       "      <td>1</td>\n",
       "      <td>230.1</td>\n",
       "      <td>37.8</td>\n",
       "      <td>69.2</td>\n",
       "      <td>22.1</td>\n",
       "    </tr>\n",
       "    <tr>\n",
       "      <th>1</th>\n",
       "      <td>2</td>\n",
       "      <td>44.5</td>\n",
       "      <td>39.3</td>\n",
       "      <td>45.1</td>\n",
       "      <td>10.4</td>\n",
       "    </tr>\n",
       "    <tr>\n",
       "      <th>2</th>\n",
       "      <td>3</td>\n",
       "      <td>17.2</td>\n",
       "      <td>45.9</td>\n",
       "      <td>69.3</td>\n",
       "      <td>9.3</td>\n",
       "    </tr>\n",
       "    <tr>\n",
       "      <th>3</th>\n",
       "      <td>4</td>\n",
       "      <td>151.5</td>\n",
       "      <td>41.3</td>\n",
       "      <td>58.5</td>\n",
       "      <td>18.5</td>\n",
       "    </tr>\n",
       "    <tr>\n",
       "      <th>4</th>\n",
       "      <td>5</td>\n",
       "      <td>180.8</td>\n",
       "      <td>10.8</td>\n",
       "      <td>58.4</td>\n",
       "      <td>12.9</td>\n",
       "    </tr>\n",
       "  </tbody>\n",
       "</table>\n",
       "</div>"
      ],
      "text/plain": [
       "   Unnamed: 0     TV  Radio  Newspaper  Sales\n",
       "0           1  230.1   37.8       69.2   22.1\n",
       "1           2   44.5   39.3       45.1   10.4\n",
       "2           3   17.2   45.9       69.3    9.3\n",
       "3           4  151.5   41.3       58.5   18.5\n",
       "4           5  180.8   10.8       58.4   12.9"
      ]
     },
     "execution_count": 2,
     "metadata": {},
     "output_type": "execute_result"
    }
   ],
   "source": [
    "data = pd.read_csv(\"data/Advertising.csv\")\n",
    "data.head()"
   ]
  },
  {
   "cell_type": "markdown",
   "id": "0bafcbd7",
   "metadata": {},
   "source": [
    "<b>2. add an extra column composing of all ones to X.<b>"
   ]
  },
  {
   "cell_type": "code",
   "execution_count": 3,
   "id": "579043db",
   "metadata": {},
   "outputs": [
    {
     "data": {
      "text/html": [
       "<div>\n",
       "<style scoped>\n",
       "    .dataframe tbody tr th:only-of-type {\n",
       "        vertical-align: middle;\n",
       "    }\n",
       "\n",
       "    .dataframe tbody tr th {\n",
       "        vertical-align: top;\n",
       "    }\n",
       "\n",
       "    .dataframe thead th {\n",
       "        text-align: right;\n",
       "    }\n",
       "</style>\n",
       "<table border=\"1\" class=\"dataframe\">\n",
       "  <thead>\n",
       "    <tr style=\"text-align: right;\">\n",
       "      <th></th>\n",
       "      <th>Bias</th>\n",
       "      <th>Unnamed: 0</th>\n",
       "      <th>TV</th>\n",
       "      <th>Radio</th>\n",
       "      <th>Newspaper</th>\n",
       "      <th>Sales</th>\n",
       "    </tr>\n",
       "  </thead>\n",
       "  <tbody>\n",
       "    <tr>\n",
       "      <th>0</th>\n",
       "      <td>1</td>\n",
       "      <td>1</td>\n",
       "      <td>230.1</td>\n",
       "      <td>37.8</td>\n",
       "      <td>69.2</td>\n",
       "      <td>22.1</td>\n",
       "    </tr>\n",
       "    <tr>\n",
       "      <th>1</th>\n",
       "      <td>1</td>\n",
       "      <td>2</td>\n",
       "      <td>44.5</td>\n",
       "      <td>39.3</td>\n",
       "      <td>45.1</td>\n",
       "      <td>10.4</td>\n",
       "    </tr>\n",
       "    <tr>\n",
       "      <th>2</th>\n",
       "      <td>1</td>\n",
       "      <td>3</td>\n",
       "      <td>17.2</td>\n",
       "      <td>45.9</td>\n",
       "      <td>69.3</td>\n",
       "      <td>9.3</td>\n",
       "    </tr>\n",
       "    <tr>\n",
       "      <th>3</th>\n",
       "      <td>1</td>\n",
       "      <td>4</td>\n",
       "      <td>151.5</td>\n",
       "      <td>41.3</td>\n",
       "      <td>58.5</td>\n",
       "      <td>18.5</td>\n",
       "    </tr>\n",
       "    <tr>\n",
       "      <th>4</th>\n",
       "      <td>1</td>\n",
       "      <td>5</td>\n",
       "      <td>180.8</td>\n",
       "      <td>10.8</td>\n",
       "      <td>58.4</td>\n",
       "      <td>12.9</td>\n",
       "    </tr>\n",
       "    <tr>\n",
       "      <th>...</th>\n",
       "      <td>...</td>\n",
       "      <td>...</td>\n",
       "      <td>...</td>\n",
       "      <td>...</td>\n",
       "      <td>...</td>\n",
       "      <td>...</td>\n",
       "    </tr>\n",
       "    <tr>\n",
       "      <th>195</th>\n",
       "      <td>1</td>\n",
       "      <td>196</td>\n",
       "      <td>38.2</td>\n",
       "      <td>3.7</td>\n",
       "      <td>13.8</td>\n",
       "      <td>7.6</td>\n",
       "    </tr>\n",
       "    <tr>\n",
       "      <th>196</th>\n",
       "      <td>1</td>\n",
       "      <td>197</td>\n",
       "      <td>94.2</td>\n",
       "      <td>4.9</td>\n",
       "      <td>8.1</td>\n",
       "      <td>9.7</td>\n",
       "    </tr>\n",
       "    <tr>\n",
       "      <th>197</th>\n",
       "      <td>1</td>\n",
       "      <td>198</td>\n",
       "      <td>177.0</td>\n",
       "      <td>9.3</td>\n",
       "      <td>6.4</td>\n",
       "      <td>12.8</td>\n",
       "    </tr>\n",
       "    <tr>\n",
       "      <th>198</th>\n",
       "      <td>1</td>\n",
       "      <td>199</td>\n",
       "      <td>283.6</td>\n",
       "      <td>42.0</td>\n",
       "      <td>66.2</td>\n",
       "      <td>25.5</td>\n",
       "    </tr>\n",
       "    <tr>\n",
       "      <th>199</th>\n",
       "      <td>1</td>\n",
       "      <td>200</td>\n",
       "      <td>232.1</td>\n",
       "      <td>8.6</td>\n",
       "      <td>8.7</td>\n",
       "      <td>13.4</td>\n",
       "    </tr>\n",
       "  </tbody>\n",
       "</table>\n",
       "<p>200 rows × 6 columns</p>\n",
       "</div>"
      ],
      "text/plain": [
       "     Bias  Unnamed: 0     TV  Radio  Newspaper  Sales\n",
       "0       1           1  230.1   37.8       69.2   22.1\n",
       "1       1           2   44.5   39.3       45.1   10.4\n",
       "2       1           3   17.2   45.9       69.3    9.3\n",
       "3       1           4  151.5   41.3       58.5   18.5\n",
       "4       1           5  180.8   10.8       58.4   12.9\n",
       "..    ...         ...    ...    ...        ...    ...\n",
       "195     1         196   38.2    3.7       13.8    7.6\n",
       "196     1         197   94.2    4.9        8.1    9.7\n",
       "197     1         198  177.0    9.3        6.4   12.8\n",
       "198     1         199  283.6   42.0       66.2   25.5\n",
       "199     1         200  232.1    8.6        8.7   13.4\n",
       "\n",
       "[200 rows x 6 columns]"
      ]
     },
     "execution_count": 3,
     "metadata": {},
     "output_type": "execute_result"
    }
   ],
   "source": [
    "data.insert(0, \"Bias\", [1]*data.shape[0])\n",
    "data"
   ]
  },
  {
   "cell_type": "code",
   "execution_count": 4,
   "id": "243a250d",
   "metadata": {},
   "outputs": [],
   "source": [
    "data = data.drop(\"Unnamed: 0\", axis=1)"
   ]
  },
  {
   "cell_type": "code",
   "execution_count": 5,
   "id": "6c0a2502",
   "metadata": {},
   "outputs": [
    {
     "data": {
      "text/html": [
       "<div>\n",
       "<style scoped>\n",
       "    .dataframe tbody tr th:only-of-type {\n",
       "        vertical-align: middle;\n",
       "    }\n",
       "\n",
       "    .dataframe tbody tr th {\n",
       "        vertical-align: top;\n",
       "    }\n",
       "\n",
       "    .dataframe thead th {\n",
       "        text-align: right;\n",
       "    }\n",
       "</style>\n",
       "<table border=\"1\" class=\"dataframe\">\n",
       "  <thead>\n",
       "    <tr style=\"text-align: right;\">\n",
       "      <th></th>\n",
       "      <th>Bias</th>\n",
       "      <th>TV</th>\n",
       "      <th>Radio</th>\n",
       "      <th>Newspaper</th>\n",
       "      <th>Sales</th>\n",
       "    </tr>\n",
       "  </thead>\n",
       "  <tbody>\n",
       "    <tr>\n",
       "      <th>0</th>\n",
       "      <td>1</td>\n",
       "      <td>230.1</td>\n",
       "      <td>37.8</td>\n",
       "      <td>69.2</td>\n",
       "      <td>22.1</td>\n",
       "    </tr>\n",
       "    <tr>\n",
       "      <th>1</th>\n",
       "      <td>1</td>\n",
       "      <td>44.5</td>\n",
       "      <td>39.3</td>\n",
       "      <td>45.1</td>\n",
       "      <td>10.4</td>\n",
       "    </tr>\n",
       "    <tr>\n",
       "      <th>2</th>\n",
       "      <td>1</td>\n",
       "      <td>17.2</td>\n",
       "      <td>45.9</td>\n",
       "      <td>69.3</td>\n",
       "      <td>9.3</td>\n",
       "    </tr>\n",
       "    <tr>\n",
       "      <th>3</th>\n",
       "      <td>1</td>\n",
       "      <td>151.5</td>\n",
       "      <td>41.3</td>\n",
       "      <td>58.5</td>\n",
       "      <td>18.5</td>\n",
       "    </tr>\n",
       "    <tr>\n",
       "      <th>4</th>\n",
       "      <td>1</td>\n",
       "      <td>180.8</td>\n",
       "      <td>10.8</td>\n",
       "      <td>58.4</td>\n",
       "      <td>12.9</td>\n",
       "    </tr>\n",
       "    <tr>\n",
       "      <th>...</th>\n",
       "      <td>...</td>\n",
       "      <td>...</td>\n",
       "      <td>...</td>\n",
       "      <td>...</td>\n",
       "      <td>...</td>\n",
       "    </tr>\n",
       "    <tr>\n",
       "      <th>195</th>\n",
       "      <td>1</td>\n",
       "      <td>38.2</td>\n",
       "      <td>3.7</td>\n",
       "      <td>13.8</td>\n",
       "      <td>7.6</td>\n",
       "    </tr>\n",
       "    <tr>\n",
       "      <th>196</th>\n",
       "      <td>1</td>\n",
       "      <td>94.2</td>\n",
       "      <td>4.9</td>\n",
       "      <td>8.1</td>\n",
       "      <td>9.7</td>\n",
       "    </tr>\n",
       "    <tr>\n",
       "      <th>197</th>\n",
       "      <td>1</td>\n",
       "      <td>177.0</td>\n",
       "      <td>9.3</td>\n",
       "      <td>6.4</td>\n",
       "      <td>12.8</td>\n",
       "    </tr>\n",
       "    <tr>\n",
       "      <th>198</th>\n",
       "      <td>1</td>\n",
       "      <td>283.6</td>\n",
       "      <td>42.0</td>\n",
       "      <td>66.2</td>\n",
       "      <td>25.5</td>\n",
       "    </tr>\n",
       "    <tr>\n",
       "      <th>199</th>\n",
       "      <td>1</td>\n",
       "      <td>232.1</td>\n",
       "      <td>8.6</td>\n",
       "      <td>8.7</td>\n",
       "      <td>13.4</td>\n",
       "    </tr>\n",
       "  </tbody>\n",
       "</table>\n",
       "<p>200 rows × 5 columns</p>\n",
       "</div>"
      ],
      "text/plain": [
       "     Bias     TV  Radio  Newspaper  Sales\n",
       "0       1  230.1   37.8       69.2   22.1\n",
       "1       1   44.5   39.3       45.1   10.4\n",
       "2       1   17.2   45.9       69.3    9.3\n",
       "3       1  151.5   41.3       58.5   18.5\n",
       "4       1  180.8   10.8       58.4   12.9\n",
       "..    ...    ...    ...        ...    ...\n",
       "195     1   38.2    3.7       13.8    7.6\n",
       "196     1   94.2    4.9        8.1    9.7\n",
       "197     1  177.0    9.3        6.4   12.8\n",
       "198     1  283.6   42.0       66.2   25.5\n",
       "199     1  232.1    8.6        8.7   13.4\n",
       "\n",
       "[200 rows x 5 columns]"
      ]
     },
     "execution_count": 5,
     "metadata": {},
     "output_type": "execute_result"
    }
   ],
   "source": [
    "data"
   ]
  },
  {
   "cell_type": "markdown",
   "id": "1cbaca23",
   "metadata": {},
   "source": [
    "<b>3. Standardize each column of the dataset</b>"
   ]
  },
  {
   "cell_type": "code",
   "execution_count": 6,
   "id": "8955e8b1",
   "metadata": {},
   "outputs": [],
   "source": [
    "TV_mean = data.TV.mean()\n",
    "TV_std =  data.TV.std()\n",
    "Radio_mean =  data.Radio.mean()\n",
    "Radio_std =  data.Radio.std()\n",
    "Newspaper_mean =  data.Newspaper.mean()\n",
    "Newspaper_std =  data.Newspaper.std()\n",
    "Sales_mean =  data.Sales.mean()\n",
    "Sales_std =  data.Sales.std()"
   ]
  },
  {
   "cell_type": "code",
   "execution_count": 7,
   "id": "3707f234",
   "metadata": {},
   "outputs": [],
   "source": [
    "data['TV'] = data.TV.apply(lambda x: (x - TV_mean) /  TV_std)\n",
    "data['Radio'] = data.Radio.apply(lambda x: (x - Radio_mean) /  Radio_std)\n",
    "data['Newspaper'] = data.Newspaper.apply(lambda x: (x - Newspaper_mean) /  Newspaper_std)\n",
    "data['Sales'] = data.Sales.apply(lambda x: (x - Sales_mean) /  Sales_std)"
   ]
  },
  {
   "cell_type": "code",
   "execution_count": 8,
   "id": "9a34f20c",
   "metadata": {},
   "outputs": [
    {
     "data": {
      "text/html": [
       "<div>\n",
       "<style scoped>\n",
       "    .dataframe tbody tr th:only-of-type {\n",
       "        vertical-align: middle;\n",
       "    }\n",
       "\n",
       "    .dataframe tbody tr th {\n",
       "        vertical-align: top;\n",
       "    }\n",
       "\n",
       "    .dataframe thead th {\n",
       "        text-align: right;\n",
       "    }\n",
       "</style>\n",
       "<table border=\"1\" class=\"dataframe\">\n",
       "  <thead>\n",
       "    <tr style=\"text-align: right;\">\n",
       "      <th></th>\n",
       "      <th>Bias</th>\n",
       "      <th>TV</th>\n",
       "      <th>Radio</th>\n",
       "      <th>Newspaper</th>\n",
       "      <th>Sales</th>\n",
       "    </tr>\n",
       "  </thead>\n",
       "  <tbody>\n",
       "    <tr>\n",
       "      <th>0</th>\n",
       "      <td>1</td>\n",
       "      <td>0.967425</td>\n",
       "      <td>0.979066</td>\n",
       "      <td>1.774493</td>\n",
       "      <td>1.548168</td>\n",
       "    </tr>\n",
       "    <tr>\n",
       "      <th>1</th>\n",
       "      <td>1</td>\n",
       "      <td>-1.194379</td>\n",
       "      <td>1.080097</td>\n",
       "      <td>0.667903</td>\n",
       "      <td>-0.694304</td>\n",
       "    </tr>\n",
       "    <tr>\n",
       "      <th>2</th>\n",
       "      <td>1</td>\n",
       "      <td>-1.512360</td>\n",
       "      <td>1.524637</td>\n",
       "      <td>1.779084</td>\n",
       "      <td>-0.905135</td>\n",
       "    </tr>\n",
       "    <tr>\n",
       "      <th>3</th>\n",
       "      <td>1</td>\n",
       "      <td>0.051919</td>\n",
       "      <td>1.214806</td>\n",
       "      <td>1.283185</td>\n",
       "      <td>0.858177</td>\n",
       "    </tr>\n",
       "    <tr>\n",
       "      <th>4</th>\n",
       "      <td>1</td>\n",
       "      <td>0.393196</td>\n",
       "      <td>-0.839507</td>\n",
       "      <td>1.278593</td>\n",
       "      <td>-0.215143</td>\n",
       "    </tr>\n",
       "  </tbody>\n",
       "</table>\n",
       "</div>"
      ],
      "text/plain": [
       "   Bias        TV     Radio  Newspaper     Sales\n",
       "0     1  0.967425  0.979066   1.774493  1.548168\n",
       "1     1 -1.194379  1.080097   0.667903 -0.694304\n",
       "2     1 -1.512360  1.524637   1.779084 -0.905135\n",
       "3     1  0.051919  1.214806   1.283185  0.858177\n",
       "4     1  0.393196 -0.839507   1.278593 -0.215143"
      ]
     },
     "execution_count": 8,
     "metadata": {},
     "output_type": "execute_result"
    }
   ],
   "source": [
    "data.head(5)"
   ]
  },
  {
   "cell_type": "code",
   "execution_count": 9,
   "id": "e6a3d55e",
   "metadata": {},
   "outputs": [],
   "source": [
    "x = data.drop('Sales', axis=1)\n",
    "y = data.Sales"
   ]
  },
  {
   "cell_type": "markdown",
   "id": "298f48f1",
   "metadata": {},
   "source": [
    "<b>4. Divide the dataset into training and testing, with 0.85 and 0.25 ratio, respectively.</b>"
   ]
  },
  {
   "cell_type": "code",
   "execution_count": 10,
   "id": "4bed3fea",
   "metadata": {},
   "outputs": [],
   "source": [
    "x_train, x_test, y_train, y_test = train_test_split(x, y, train_size=0.85, test_size=0.15, random_state = 42)"
   ]
  },
  {
   "cell_type": "code",
   "execution_count": 11,
   "id": "df4ddcdf",
   "metadata": {},
   "outputs": [
    {
     "data": {
      "text/html": [
       "<div>\n",
       "<style scoped>\n",
       "    .dataframe tbody tr th:only-of-type {\n",
       "        vertical-align: middle;\n",
       "    }\n",
       "\n",
       "    .dataframe tbody tr th {\n",
       "        vertical-align: top;\n",
       "    }\n",
       "\n",
       "    .dataframe thead th {\n",
       "        text-align: right;\n",
       "    }\n",
       "</style>\n",
       "<table border=\"1\" class=\"dataframe\">\n",
       "  <thead>\n",
       "    <tr style=\"text-align: right;\">\n",
       "      <th></th>\n",
       "      <th>Bias</th>\n",
       "      <th>TV</th>\n",
       "      <th>Radio</th>\n",
       "      <th>Newspaper</th>\n",
       "    </tr>\n",
       "  </thead>\n",
       "  <tbody>\n",
       "    <tr>\n",
       "      <th>9</th>\n",
       "      <td>1</td>\n",
       "      <td>0.614501</td>\n",
       "      <td>-1.391814</td>\n",
       "      <td>-0.429504</td>\n",
       "    </tr>\n",
       "    <tr>\n",
       "      <th>18</th>\n",
       "      <td>1</td>\n",
       "      <td>-0.906682</td>\n",
       "      <td>-0.186168</td>\n",
       "      <td>-0.562662</td>\n",
       "    </tr>\n",
       "    <tr>\n",
       "      <th>55</th>\n",
       "      <td>1</td>\n",
       "      <td>0.604018</td>\n",
       "      <td>1.760378</td>\n",
       "      <td>1.352060</td>\n",
       "    </tr>\n",
       "    <tr>\n",
       "      <th>75</th>\n",
       "      <td>1</td>\n",
       "      <td>-1.515854</td>\n",
       "      <td>1.376457</td>\n",
       "      <td>2.702008</td>\n",
       "    </tr>\n",
       "    <tr>\n",
       "      <th>150</th>\n",
       "      <td>1</td>\n",
       "      <td>1.556796</td>\n",
       "      <td>-0.630708</td>\n",
       "      <td>0.295978</td>\n",
       "    </tr>\n",
       "    <tr>\n",
       "      <th>...</th>\n",
       "      <td>...</td>\n",
       "      <td>...</td>\n",
       "      <td>...</td>\n",
       "      <td>...</td>\n",
       "    </tr>\n",
       "    <tr>\n",
       "      <th>106</th>\n",
       "      <td>1</td>\n",
       "      <td>-1.421508</td>\n",
       "      <td>-0.826036</td>\n",
       "      <td>-0.039213</td>\n",
       "    </tr>\n",
       "    <tr>\n",
       "      <th>14</th>\n",
       "      <td>1</td>\n",
       "      <td>0.664586</td>\n",
       "      <td>0.649028</td>\n",
       "      <td>0.709228</td>\n",
       "    </tr>\n",
       "    <tr>\n",
       "      <th>92</th>\n",
       "      <td>1</td>\n",
       "      <td>0.822994</td>\n",
       "      <td>0.689441</td>\n",
       "      <td>1.306143</td>\n",
       "    </tr>\n",
       "    <tr>\n",
       "      <th>179</th>\n",
       "      <td>1</td>\n",
       "      <td>0.216151</td>\n",
       "      <td>-0.893391</td>\n",
       "      <td>-0.594804</td>\n",
       "    </tr>\n",
       "    <tr>\n",
       "      <th>102</th>\n",
       "      <td>1</td>\n",
       "      <td>1.550972</td>\n",
       "      <td>-0.886655</td>\n",
       "      <td>-0.420320</td>\n",
       "    </tr>\n",
       "  </tbody>\n",
       "</table>\n",
       "<p>170 rows × 4 columns</p>\n",
       "</div>"
      ],
      "text/plain": [
       "     Bias        TV     Radio  Newspaper\n",
       "9       1  0.614501 -1.391814  -0.429504\n",
       "18      1 -0.906682 -0.186168  -0.562662\n",
       "55      1  0.604018  1.760378   1.352060\n",
       "75      1 -1.515854  1.376457   2.702008\n",
       "150     1  1.556796 -0.630708   0.295978\n",
       "..    ...       ...       ...        ...\n",
       "106     1 -1.421508 -0.826036  -0.039213\n",
       "14      1  0.664586  0.649028   0.709228\n",
       "92      1  0.822994  0.689441   1.306143\n",
       "179     1  0.216151 -0.893391  -0.594804\n",
       "102     1  1.550972 -0.886655  -0.420320\n",
       "\n",
       "[170 rows x 4 columns]"
      ]
     },
     "execution_count": 11,
     "metadata": {},
     "output_type": "execute_result"
    }
   ],
   "source": [
    "x_train"
   ]
  },
  {
   "cell_type": "code",
   "execution_count": 12,
   "id": "c58c6036",
   "metadata": {},
   "outputs": [
    {
     "data": {
      "text/plain": [
       "9     -0.655971\n",
       "18    -0.521806\n",
       "55     1.854831\n",
       "75    -1.020133\n",
       "150    0.398183\n",
       "         ...   \n",
       "106   -1.307629\n",
       "14     0.954009\n",
       "92     1.030675\n",
       "179   -0.272642\n",
       "102    0.149019\n",
       "Name: Sales, Length: 170, dtype: float64"
      ]
     },
     "execution_count": 12,
     "metadata": {},
     "output_type": "execute_result"
    }
   ],
   "source": [
    "y_train"
   ]
  },
  {
   "cell_type": "markdown",
   "id": "f3a52e1c",
   "metadata": {},
   "source": [
    "<b>5. Fit the model on the training set. Essentially, you have to optimize the model using the\n",
    "training set, and not including the test set.</b>"
   ]
  },
  {
   "cell_type": "markdown",
   "id": "88171689",
   "metadata": {},
   "source": [
    "Required Functions"
   ]
  },
  {
   "cell_type": "markdown",
   "id": "9f5c388e",
   "metadata": {},
   "source": [
    "a. initialize_weights"
   ]
  },
  {
   "cell_type": "code",
   "execution_count": 13,
   "id": "9b736e6b",
   "metadata": {},
   "outputs": [],
   "source": [
    " def initialize_weights():\n",
    "    init_w = np.array([0.0, 0.0, 0.0, 0.0])\n",
    "    return init_w"
   ]
  },
  {
   "cell_type": "code",
   "execution_count": 14,
   "id": "17752e8a",
   "metadata": {},
   "outputs": [
    {
     "data": {
      "text/plain": [
       "array([0., 0., 0., 0.])"
      ]
     },
     "execution_count": 14,
     "metadata": {},
     "output_type": "execute_result"
    }
   ],
   "source": [
    "initialize_weights()"
   ]
  },
  {
   "cell_type": "markdown",
   "id": "3a4da7d7",
   "metadata": {},
   "source": [
    "b. predict"
   ]
  },
  {
   "cell_type": "code",
   "execution_count": 15,
   "id": "6f691abf",
   "metadata": {},
   "outputs": [],
   "source": [
    "def predict(weights, x):\n",
    "    y_hat = np.dot(x, weights)\n",
    "    return y_hat"
   ]
  },
  {
   "cell_type": "markdown",
   "id": "7a8b3355",
   "metadata": {},
   "source": [
    "c. compute_cost"
   ]
  },
  {
   "cell_type": "code",
   "execution_count": 16,
   "id": "3325b88d",
   "metadata": {},
   "outputs": [],
   "source": [
    "def compute_cost(y_hat, y):\n",
    "    err = (y_hat - y)\n",
    "    cost = (1/(2*y.shape[0])) * np.dot(err.T, err)\n",
    "    \n",
    "    return cost"
   ]
  },
  {
   "cell_type": "markdown",
   "id": "4d3a98f7",
   "metadata": {},
   "source": [
    "d. compute_gradient"
   ]
  },
  {
   "cell_type": "code",
   "execution_count": 17,
   "id": "53f5808f",
   "metadata": {},
   "outputs": [],
   "source": [
    "def compute_gradient(x, y, y_hat):\n",
    "    m = y.shape[0]\n",
    "    partial_derivative = np.dot(x.T, (y_hat - y)) / m\n",
    "    return partial_derivative"
   ]
  },
  {
   "cell_type": "markdown",
   "id": "4cc022e6",
   "metadata": {},
   "source": [
    "e. update_weights"
   ]
  },
  {
   "cell_type": "code",
   "execution_count": 18,
   "id": "47ccdf4f",
   "metadata": {},
   "outputs": [],
   "source": [
    "def update_weights(weights, gradients, alpha):\n",
    "    return weights - (alpha*gradients)"
   ]
  },
  {
   "cell_type": "markdown",
   "id": "28b239b3",
   "metadata": {},
   "source": [
    "f. grad_descent"
   ]
  },
  {
   "cell_type": "code",
   "execution_count": 19,
   "id": "962540f5",
   "metadata": {},
   "outputs": [],
   "source": [
    "def grad_descent(x, y, iterations, alpha):\n",
    "    costs_list = []\n",
    "    thetas_list = []\n",
    "    \n",
    "    init_w = initialize_weights()\n",
    "    \n",
    "    for i in range(iterations):\n",
    "        y_hat = predict(init_w, x)\n",
    "        \n",
    "        costs = compute_cost(y_hat, y)\n",
    "        \n",
    "        gradients = compute_gradient(x, y, y_hat)\n",
    "\n",
    "        init_w = update_weights(init_w, gradients, alpha)\n",
    "        \n",
    "       \n",
    "        costs_list.append(costs)\n",
    "        thetas_list.append(init_w)\n",
    "    \n",
    "    return thetas_list, costs_list\n",
    " "
   ]
  },
  {
   "cell_type": "markdown",
   "id": "a14b3043",
   "metadata": {},
   "source": [
    "g. plot_costs"
   ]
  },
  {
   "cell_type": "code",
   "execution_count": 20,
   "id": "c13a9f9b",
   "metadata": {},
   "outputs": [],
   "source": [
    "def plot_costs(cost):\n",
    "    costs = pd.DataFrame(cost, columns=['Costs'])\n",
    "    \n",
    "    fig, ax = plt.subplots(figsize=(15, 8))\n",
    "    plt.title(\"Costs as a function of iteration\")\n",
    "    plt.xlabel(\"Iterations\")\n",
    "    plt.ylabel(\"Cost\")\n",
    "    sns.lineplot(data=costs, ax=ax)\n",
    "    plt.show()"
   ]
  },
  {
   "cell_type": "markdown",
   "id": "8ea5ae0d",
   "metadata": {},
   "source": [
    "h. Predict y for train set and calculate the cost."
   ]
  },
  {
   "cell_type": "code",
   "execution_count": 21,
   "id": "c1007497",
   "metadata": {},
   "outputs": [],
   "source": [
    "weights, costs = grad_descent(x_train, y_train, 400, 0.01)"
   ]
  },
  {
   "cell_type": "code",
   "execution_count": 22,
   "id": "143b50e3",
   "metadata": {},
   "outputs": [
    {
     "data": {
      "image/png": "[encoded data removed]",
      "text/plain": [
       "<Figure size 1080x576 with 1 Axes>"
      ]
     },
     "metadata": {
      "needs_background": "light"
     },
     "output_type": "display_data"
    }
   ],
   "source": [
    "plot_costs(costs)"
   ]
  },
  {
   "cell_type": "code",
   "execution_count": 23,
   "id": "0499cb1e",
   "metadata": {},
   "outputs": [],
   "source": [
    "y_hat = predict(weights[-1], x_train)"
   ]
  },
  {
   "cell_type": "code",
   "execution_count": 24,
   "id": "e923f2ae",
   "metadata": {},
   "outputs": [
    {
     "data": {
      "text/plain": [
       "array([-0.28051541, -0.76580955,  1.38243344, -0.31481056,  0.81360487,\n",
       "        1.12284959, -0.03564756,  1.3026761 , -0.57775274, -1.77000611,\n",
       "       -0.80862176, -0.2590117 , -0.75033121, -1.09792228, -0.09014209,\n",
       "       -1.61544675, -0.88211632,  0.01221296, -0.96016956, -0.46606031,\n",
       "        0.24199392, -0.39993359, -0.22158989, -0.60610351, -1.39233863,\n",
       "       -0.75470054, -0.8583917 ,  1.89173261, -1.19990921, -0.28684271,\n",
       "        0.69166313,  0.2326117 , -0.47929769, -0.58384208,  0.52293933,\n",
       "       -1.33716789,  1.35727662, -1.47691782, -0.76834279, -0.50358686,\n",
       "       -0.89858126, -1.39494104,  0.16607568,  0.61651468,  0.35507311,\n",
       "        0.41320764,  0.15422915,  1.00135168,  0.00460569,  1.30284361,\n",
       "       -0.26091803, -0.06057727, -0.93870822,  0.54717369, -1.06416017,\n",
       "        0.26668195, -0.05771333,  1.69405019, -0.31780621,  1.67024266,\n",
       "       -1.35913071,  0.87252629,  1.80186332,  0.8521557 ,  0.56581952,\n",
       "        0.42185002, -0.2909157 , -0.4316966 ,  0.55053983,  0.09569424,\n",
       "       -0.11049666, -1.17368344,  0.97572743, -0.82207883,  1.01172146,\n",
       "       -0.71000982, -1.29428117,  0.50763901, -0.06346594,  0.20706335,\n",
       "       -0.60186681,  1.25501234,  1.84843735,  0.78557603,  0.70596718,\n",
       "        0.17061065,  0.54285542, -0.92675638,  0.58165785,  0.98451443,\n",
       "        0.43812001, -1.9270706 , -1.63940987,  0.27992484,  0.28113978,\n",
       "        0.46197158,  0.83443857,  1.72299965,  0.1285408 ,  1.18772137,\n",
       "        0.62428436,  1.40316516, -0.67791592,  0.24506366, -0.01307334,\n",
       "       -0.79700272,  0.69971033,  0.76235339,  1.1323137 ,  0.9891425 ,\n",
       "       -0.66110756,  0.36121435,  1.23477889, -1.06737349, -0.4851434 ,\n",
       "       -1.21781732, -0.37487639,  0.17680966, -1.74894613,  0.08090925,\n",
       "        1.08538714, -0.01793464,  0.56430768, -1.93660046, -0.98793176,\n",
       "        0.7293017 ,  0.08844703,  0.30887336,  1.73377805, -0.68907429,\n",
       "        2.00086097, -0.35231259, -0.13352967,  1.92380496, -0.17986124,\n",
       "        1.1520905 , -1.28110361, -0.2465754 , -1.10827182,  1.46216704,\n",
       "        0.4439232 , -0.36298367,  0.1263469 , -0.24750813,  0.0382007 ,\n",
       "       -1.75675973, -1.11077741,  0.31647052, -0.74373951,  0.78507403,\n",
       "       -0.28930612,  1.23790825, -0.78599768, -0.69368434, -0.71042951,\n",
       "        0.12111225,  0.56039176, -0.38090812,  0.33691735,  0.5869256 ,\n",
       "       -1.10980128,  0.18461215,  0.78653807,  0.8170694 , -0.62148315,\n",
       "       -1.45407362,  0.83694985,  0.98864425, -0.31707987,  0.65831417])"
      ]
     },
     "execution_count": 24,
     "metadata": {},
     "output_type": "execute_result"
    }
   ],
   "source": [
    "y_hat"
   ]
  },
  {
   "cell_type": "code",
   "execution_count": 25,
   "id": "0e4d62db",
   "metadata": {},
   "outputs": [
    {
     "data": {
      "text/plain": [
       "0.051467069634928565"
      ]
     },
     "execution_count": 25,
     "metadata": {},
     "output_type": "execute_result"
    }
   ],
   "source": [
    "compute_cost(y_hat, y_train)"
   ]
  },
  {
   "cell_type": "markdown",
   "id": "af81102a",
   "metadata": {},
   "source": [
    "<b>6. Predicting the quantitative response y on the train set. Evaluating performance using the MSE cost function defined for the gradient descent.</b>"
   ]
  },
  {
   "cell_type": "code",
   "execution_count": 26,
   "id": "938d92fc",
   "metadata": {},
   "outputs": [
    {
     "data": {
      "text/plain": [
       "0.10293413926985712"
      ]
     },
     "execution_count": 26,
     "metadata": {},
     "output_type": "execute_result"
    }
   ],
   "source": [
    "mean_squared_error(y_train, y_hat)"
   ]
  },
  {
   "cell_type": "markdown",
   "id": "28a9e65d",
   "metadata": {},
   "source": [
    "i. Predict y for test set and calculate the cost"
   ]
  },
  {
   "cell_type": "code",
   "execution_count": 27,
   "id": "f531c0bd",
   "metadata": {},
   "outputs": [],
   "source": [
    "y_hat_2 = predict(weights[-1], x_test)"
   ]
  },
  {
   "cell_type": "code",
   "execution_count": 28,
   "id": "36566471",
   "metadata": {},
   "outputs": [
    {
     "data": {
      "text/plain": [
       "0.05508804927847815"
      ]
     },
     "execution_count": 28,
     "metadata": {},
     "output_type": "execute_result"
    }
   ],
   "source": [
    "compute_cost(y_hat_2, y_test)"
   ]
  },
  {
   "cell_type": "markdown",
   "id": "5a83cc66",
   "metadata": {},
   "source": [
    "<b>7. Predicting the quantitative response y on the train set. Evaluating performance using the MSE cost function defined for the gradient descent.</b>"
   ]
  },
  {
   "cell_type": "code",
   "execution_count": 29,
   "id": "df564ab1",
   "metadata": {},
   "outputs": [
    {
     "data": {
      "text/plain": [
       "0.1101760985569563"
      ]
     },
     "execution_count": 29,
     "metadata": {},
     "output_type": "execute_result"
    }
   ],
   "source": [
    "mean_squared_error(y_test, y_hat_2)"
   ]
  },
  {
   "cell_type": "markdown",
   "id": "1bf9a30c",
   "metadata": {},
   "source": [
    "<b>8. Revert back a standardized data into the original form</b> "
   ]
  },
  {
   "cell_type": "code",
   "execution_count": 30,
   "id": "9eef565d",
   "metadata": {},
   "outputs": [],
   "source": [
    "new_data = pd.DataFrame()"
   ]
  },
  {
   "cell_type": "code",
   "execution_count": 31,
   "id": "ac38f86c",
   "metadata": {},
   "outputs": [
    {
     "data": {
      "text/html": [
       "<div>\n",
       "<style scoped>\n",
       "    .dataframe tbody tr th:only-of-type {\n",
       "        vertical-align: middle;\n",
       "    }\n",
       "\n",
       "    .dataframe tbody tr th {\n",
       "        vertical-align: top;\n",
       "    }\n",
       "\n",
       "    .dataframe thead th {\n",
       "        text-align: right;\n",
       "    }\n",
       "</style>\n",
       "<table border=\"1\" class=\"dataframe\">\n",
       "  <thead>\n",
       "    <tr style=\"text-align: right;\">\n",
       "      <th></th>\n",
       "      <th>TV</th>\n",
       "      <th>Radio</th>\n",
       "      <th>Newspaper</th>\n",
       "      <th>Sales</th>\n",
       "    </tr>\n",
       "  </thead>\n",
       "  <tbody>\n",
       "    <tr>\n",
       "      <th>0</th>\n",
       "      <td>230.1</td>\n",
       "      <td>37.8</td>\n",
       "      <td>69.2</td>\n",
       "      <td>22.1</td>\n",
       "    </tr>\n",
       "    <tr>\n",
       "      <th>1</th>\n",
       "      <td>44.5</td>\n",
       "      <td>39.3</td>\n",
       "      <td>45.1</td>\n",
       "      <td>10.4</td>\n",
       "    </tr>\n",
       "    <tr>\n",
       "      <th>2</th>\n",
       "      <td>17.2</td>\n",
       "      <td>45.9</td>\n",
       "      <td>69.3</td>\n",
       "      <td>9.3</td>\n",
       "    </tr>\n",
       "    <tr>\n",
       "      <th>3</th>\n",
       "      <td>151.5</td>\n",
       "      <td>41.3</td>\n",
       "      <td>58.5</td>\n",
       "      <td>18.5</td>\n",
       "    </tr>\n",
       "    <tr>\n",
       "      <th>4</th>\n",
       "      <td>180.8</td>\n",
       "      <td>10.8</td>\n",
       "      <td>58.4</td>\n",
       "      <td>12.9</td>\n",
       "    </tr>\n",
       "    <tr>\n",
       "      <th>5</th>\n",
       "      <td>8.7</td>\n",
       "      <td>48.9</td>\n",
       "      <td>75.0</td>\n",
       "      <td>7.2</td>\n",
       "    </tr>\n",
       "    <tr>\n",
       "      <th>6</th>\n",
       "      <td>57.5</td>\n",
       "      <td>32.8</td>\n",
       "      <td>23.5</td>\n",
       "      <td>11.8</td>\n",
       "    </tr>\n",
       "    <tr>\n",
       "      <th>7</th>\n",
       "      <td>120.2</td>\n",
       "      <td>19.6</td>\n",
       "      <td>11.6</td>\n",
       "      <td>13.2</td>\n",
       "    </tr>\n",
       "    <tr>\n",
       "      <th>8</th>\n",
       "      <td>8.6</td>\n",
       "      <td>2.1</td>\n",
       "      <td>1.0</td>\n",
       "      <td>4.8</td>\n",
       "    </tr>\n",
       "    <tr>\n",
       "      <th>9</th>\n",
       "      <td>199.8</td>\n",
       "      <td>2.6</td>\n",
       "      <td>21.2</td>\n",
       "      <td>10.6</td>\n",
       "    </tr>\n",
       "  </tbody>\n",
       "</table>\n",
       "</div>"
      ],
      "text/plain": [
       "      TV  Radio  Newspaper  Sales\n",
       "0  230.1   37.8       69.2   22.1\n",
       "1   44.5   39.3       45.1   10.4\n",
       "2   17.2   45.9       69.3    9.3\n",
       "3  151.5   41.3       58.5   18.5\n",
       "4  180.8   10.8       58.4   12.9\n",
       "5    8.7   48.9       75.0    7.2\n",
       "6   57.5   32.8       23.5   11.8\n",
       "7  120.2   19.6       11.6   13.2\n",
       "8    8.6    2.1        1.0    4.8\n",
       "9  199.8    2.6       21.2   10.6"
      ]
     },
     "execution_count": 31,
     "metadata": {},
     "output_type": "execute_result"
    }
   ],
   "source": [
    "new_data['TV'] = data.TV.apply(lambda x: (x * TV_std + TV_mean))\n",
    "new_data['Radio'] = data.Radio.apply(lambda x: (x * Radio_std + Radio_mean))\n",
    "new_data['Newspaper'] = data.Newspaper.apply(lambda x: (x * Newspaper_std + Newspaper_mean))\n",
    "new_data['Sales'] = data.Sales.apply(lambda x: (x * Sales_std + Sales_mean))\n",
    "\n",
    "new_data.head(10)"
   ]
  },
  {
   "cell_type": "code",
   "execution_count": 32,
   "id": "c59509d6",
   "metadata": {},
   "outputs": [],
   "source": [
    "x2 = new_data.drop('Sales', axis=1)\n",
    "y2 = new_data.Sales\n",
    "x_train2, x_test2, y_train2, y_test2 = train_test_split(x, y, train_size=0.85, test_size=0.15, random_state = 42)"
   ]
  },
  {
   "cell_type": "code",
   "execution_count": 33,
   "id": "a6cf9c1c",
   "metadata": {},
   "outputs": [],
   "source": [
    "y_hat2 = predict(weights[-1], x_train2)\n",
    "y_hat_test2 = predict(weights[-1], x_test)"
   ]
  },
  {
   "cell_type": "code",
   "execution_count": 34,
   "id": "d8b714d8",
   "metadata": {},
   "outputs": [
    {
     "data": {
      "text/plain": [
       "0.051467069634928565"
      ]
     },
     "execution_count": 34,
     "metadata": {},
     "output_type": "execute_result"
    }
   ],
   "source": [
    "compute_cost(y_hat2, y_train2)"
   ]
  },
  {
   "cell_type": "code",
   "execution_count": 35,
   "id": "a86a4e31",
   "metadata": {},
   "outputs": [
    {
     "data": {
      "text/plain": [
       "0.05508804927847815"
      ]
     },
     "execution_count": 35,
     "metadata": {},
     "output_type": "execute_result"
    }
   ],
   "source": [
    "compute_cost(y_hat_test2, y_test2)"
   ]
  },
  {
   "cell_type": "code",
   "execution_count": 36,
   "id": "43ed4f68",
   "metadata": {},
   "outputs": [
    {
     "data": {
      "text/plain": [
       "0.10293413926985712"
      ]
     },
     "execution_count": 36,
     "metadata": {},
     "output_type": "execute_result"
    }
   ],
   "source": [
    "mean_squared_error(y_train2, y_hat2)"
   ]
  },
  {
   "cell_type": "code",
   "execution_count": 37,
   "id": "9e7cc79a",
   "metadata": {},
   "outputs": [
    {
     "data": {
      "text/plain": [
       "0.1101760985569563"
      ]
     },
     "execution_count": 37,
     "metadata": {},
     "output_type": "execute_result"
    }
   ],
   "source": [
    "mean_squared_error(y_test2, y_hat_test2)"
   ]
  },
  {
   "cell_type": "markdown",
   "id": "689ceeaa",
   "metadata": {},
   "source": [
    "We may conclude that even if the data weren't normalized, we could still obtain findings that are similar since the costs and MSE of the standardized and the original datasets are comparable."
   ]
  },
  {
   "cell_type": "markdown",
   "id": "c8793051",
   "metadata": {},
   "source": [
    "<b> Compare Code with Scikit-learn Linear Regression using standardized training and test data </b>"
   ]
  },
  {
   "cell_type": "code",
   "execution_count": 38,
   "id": "9cc9b447",
   "metadata": {},
   "outputs": [],
   "source": [
    "model = LinearRegression().fit(x_train, y_train)"
   ]
  },
  {
   "cell_type": "code",
   "execution_count": 39,
   "id": "3b6a0578",
   "metadata": {},
   "outputs": [
    {
     "data": {
      "text/plain": [
       "0.8936793584593189"
      ]
     },
     "execution_count": 39,
     "metadata": {},
     "output_type": "execute_result"
    }
   ],
   "source": [
    "r_2 = model.score(x_train, y_train)\n",
    "r_2"
   ]
  },
  {
   "cell_type": "code",
   "execution_count": 40,
   "id": "192fed9c",
   "metadata": {},
   "outputs": [],
   "source": [
    "r_2_test = model.score(x_test, y_test)"
   ]
  },
  {
   "cell_type": "code",
   "execution_count": 41,
   "id": "88fddc72",
   "metadata": {},
   "outputs": [],
   "source": [
    "pred = model.predict(x_test)"
   ]
  },
  {
   "cell_type": "code",
   "execution_count": 42,
   "id": "d794c322",
   "metadata": {},
   "outputs": [
    {
     "data": {
      "text/plain": [
       "array([ 0.45608244,  1.28515934,  1.42347461, -0.64921566,  1.47879146,\n",
       "       -0.1706977 ,  1.30218704, -1.2362777 , -0.07207615,  0.2136751 ,\n",
       "       -0.96180887, -1.37448756,  0.1189018 , -0.98942856, -0.80008631,\n",
       "       -0.33271478, -0.99613887,  0.40986922, -0.70366205,  0.88741908,\n",
       "        1.06547073, -0.10087422, -0.35064106,  1.38933658, -1.17734202,\n",
       "       -1.53583278,  1.2513131 , -0.39221506, -0.90608362, -1.06675884])"
      ]
     },
     "execution_count": 42,
     "metadata": {},
     "output_type": "execute_result"
    }
   ],
   "source": [
    "y_hat_2"
   ]
  },
  {
   "cell_type": "code",
   "execution_count": 43,
   "id": "22761bb8",
   "metadata": {},
   "outputs": [
    {
     "data": {
      "text/plain": [
       "array([0.        , 0.73738315, 0.53630718, 0.00314254])"
      ]
     },
     "execution_count": 43,
     "metadata": {},
     "output_type": "execute_result"
    }
   ],
   "source": [
    "model.coef_"
   ]
  },
  {
   "cell_type": "markdown",
   "id": "b28bb57b",
   "metadata": {},
   "source": [
    "### QUESTIONS"
   ]
  },
  {
   "cell_type": "markdown",
   "id": "aa82c48d",
   "metadata": {},
   "source": [
    "<i> 1. What are the optimal weights found by your implemented gradient descent? What are your interpretations regarding the formed linear model? </i>"
   ]
  },
  {
   "cell_type": "code",
   "execution_count": 44,
   "id": "6a44e3fa",
   "metadata": {},
   "outputs": [
    {
     "data": {
      "text/plain": [
       "array([0.00218526, 0.72460531, 0.51470896, 0.02698926])"
      ]
     },
     "execution_count": 44,
     "metadata": {},
     "output_type": "execute_result"
    }
   ],
   "source": [
    "weights[-1]"
   ]
  },
  {
   "cell_type": "markdown",
   "id": "529570cb",
   "metadata": {},
   "source": [
    "<b>If weights were initially set at 0, the optimal weights would be:\n",
    "h0(x) = 0.00218526 + 0.72460531 * TV + 0.51470896 * Radio + 0.02698926 * Newspaper\n",
    "According to this linear model, TV has a greater influence on sales than newspapers since it carries a greater weight.\n",
    "</b>"
   ]
  },
  {
   "cell_type": "markdown",
   "id": "943d6575",
   "metadata": {},
   "source": [
    " "
   ]
  },
  {
   "cell_type": "markdown",
   "id": "a5113b31",
   "metadata": {},
   "source": [
    "<i> 2. Provide a scatter plot of the y_hat and y for both the train and test set. Is there a trend? Provide an r2 score (also available in sklearn). </i>"
   ]
  },
  {
   "cell_type": "code",
   "execution_count": 45,
   "id": "397b592c",
   "metadata": {},
   "outputs": [
    {
     "data": {
      "text/plain": [
       "<AxesSubplot:title={'center':'Y_hat values VS Y values in Train Set'}, xlabel='Predicted sales', ylabel='Sales'>"
      ]
     },
     "execution_count": 45,
     "metadata": {},
     "output_type": "execute_result"
    },
    {
     "data": {
      "image/png": "[encoded data removed]",
      "text/plain": [
       "<Figure size 1152x576 with 1 Axes>"
      ]
     },
     "metadata": {
      "needs_background": "light"
     },
     "output_type": "display_data"
    }
   ],
   "source": [
    "fig, ax = plt.subplots(figsize=(16, 8))\n",
    "plt.title(\"Y_hat values VS Y values in Train Set\")\n",
    "plt.xlabel(\"Predicted sales\")\n",
    "sns.scatterplot(x=y_hat, y=y_train, ax=ax)"
   ]
  },
  {
   "cell_type": "code",
   "execution_count": 46,
   "id": "4d14a3cd",
   "metadata": {},
   "outputs": [
    {
     "name": "stdout",
     "output_type": "stream",
     "text": [
      "The r2 score is 0.8928727571970488\n"
     ]
    }
   ],
   "source": [
    "print(f\"The r2 score is {r2_score(y_train, y_hat)}\")"
   ]
  },
  {
   "cell_type": "markdown",
   "id": "ebf8f17b",
   "metadata": {},
   "source": [
    " "
   ]
  },
  {
   "cell_type": "markdown",
   "id": "565f5441",
   "metadata": {},
   "source": [
    " "
   ]
  },
  {
   "cell_type": "code",
   "execution_count": 47,
   "id": "8d900617",
   "metadata": {},
   "outputs": [
    {
     "data": {
      "text/plain": [
       "<AxesSubplot:title={'center':'Y_hat values VS Y values in Test Set'}, xlabel='Predicted sales', ylabel='Sales'>"
      ]
     },
     "execution_count": 47,
     "metadata": {},
     "output_type": "execute_result"
    },
    {
     "data": {
      "image/png": "[encoded data removed]",
      "text/plain": [
       "<Figure size 1152x576 with 1 Axes>"
      ]
     },
     "metadata": {
      "needs_background": "light"
     },
     "output_type": "display_data"
    }
   ],
   "source": [
    "fig, ax = plt.subplots(figsize=(16, 8))\n",
    "plt.title(\"Y_hat values VS Y values in Test Set\")\n",
    "plt.xlabel(\"Predicted sales\")\n",
    "sns.scatterplot(x=y_hat_2, y=y_test, ax=ax)"
   ]
  },
  {
   "cell_type": "code",
   "execution_count": 48,
   "id": "969defc5",
   "metadata": {
    "scrolled": true
   },
   "outputs": [
    {
     "name": "stdout",
     "output_type": "stream",
     "text": [
      "The r2 score is 0.9065041410827248\n"
     ]
    }
   ],
   "source": [
    "print(f\"The r2 score is {r2_score(y_test, y_hat_2)}\")"
   ]
  },
  {
   "cell_type": "markdown",
   "id": "1cfd9bea",
   "metadata": {},
   "source": [
    " "
   ]
  },
  {
   "cell_type": "markdown",
   "id": "34bc3f92",
   "metadata": {},
   "source": [
    "<i>3. What happens to the error, r2, and cost as the number of iterations increase? Show your data and proof. You can alternatively plot your result data for visualization and check until 50000 iterations or more (actually).</i>"
   ]
  },
  {
   "cell_type": "code",
   "execution_count": 49,
   "id": "6f834208",
   "metadata": {},
   "outputs": [
    {
     "data": {
      "image/png": "[encoded data removed]",
      "text/plain": [
       "<Figure size 1080x576 with 1 Axes>"
      ]
     },
     "metadata": {
      "needs_background": "light"
     },
     "output_type": "display_data"
    }
   ],
   "source": [
    "weights2, costs2 =  grad_descent(x_train, y_train, 500, 0.01)\n",
    "plot_costs(costs2)"
   ]
  },
  {
   "cell_type": "code",
   "execution_count": 50,
   "id": "d1e896f6",
   "metadata": {},
   "outputs": [
    {
     "name": "stdout",
     "output_type": "stream",
     "text": [
      "Error: \n",
      " 9     -0.370362\n",
      "18     0.248339\n",
      "55     0.464954\n",
      "75    -0.677604\n",
      "150   -0.418063\n",
      "         ...   \n",
      "106    0.166727\n",
      "14     0.113416\n",
      "92     0.042863\n",
      "179    0.046183\n",
      "102   -0.516776\n",
      "Name: Sales, Length: 170, dtype: float64\n",
      "R2:\n",
      " 0.8934618344944969\n"
     ]
    }
   ],
   "source": [
    "y_hat_500 = predict(weights2[-1], x_train)\n",
    "print(\"Error: \\n\", y_train - y_hat_500)\n",
    "print(\"R2:\\n\", r2_score(y_train, y_hat_500))"
   ]
  },
  {
   "cell_type": "code",
   "execution_count": 51,
   "id": "f957cb75",
   "metadata": {},
   "outputs": [
    {
     "data": {
      "image/png": "[encoded data removed]",
      "text/plain": [
       "<Figure size 1080x576 with 1 Axes>"
      ]
     },
     "metadata": {
      "needs_background": "light"
     },
     "output_type": "display_data"
    }
   ],
   "source": [
    "weights2, costs2 =  grad_descent(x_train, y_train, 5000, 0.01)\n",
    "plot_costs(costs2)"
   ]
  },
  {
   "cell_type": "code",
   "execution_count": 52,
   "id": "15ea466e",
   "metadata": {},
   "outputs": [
    {
     "name": "stdout",
     "output_type": "stream",
     "text": [
      "Error: \n",
      " 9     -0.361739\n",
      "18     0.247942\n",
      "55     0.460650\n",
      "75    -0.649499\n",
      "150   -0.412885\n",
      "         ...   \n",
      "106    0.183263\n",
      "14     0.113212\n",
      "92     0.049520\n",
      "179    0.048537\n",
      "102   -0.518237\n",
      "Name: Sales, Length: 170, dtype: float64\n",
      "R2:\n",
      " 0.8936793584593189\n"
     ]
    }
   ],
   "source": [
    "y_hat_5000 = predict(weights2[-1], x_train)\n",
    "r2_score(y_train, y_hat_5000)\n",
    "print(\"Error: \\n\", y_train - y_hat_5000)\n",
    "print(\"R2:\\n\", r2_score(y_train, y_hat_5000))"
   ]
  },
  {
   "cell_type": "code",
   "execution_count": 53,
   "id": "f73533a6",
   "metadata": {},
   "outputs": [
    {
     "data": {
      "image/png": "[encoded data removed]",
      "text/plain": [
       "<Figure size 1080x576 with 1 Axes>"
      ]
     },
     "metadata": {
      "needs_background": "light"
     },
     "output_type": "display_data"
    }
   ],
   "source": [
    "weights2, costs2 = grad_descent(x_train, y_train, 50000, 0.01)\n",
    "plot_costs(costs2)"
   ]
  },
  {
   "cell_type": "code",
   "execution_count": 54,
   "id": "09f3261e",
   "metadata": {},
   "outputs": [
    {
     "name": "stdout",
     "output_type": "stream",
     "text": [
      "Error: \n",
      " 9     -0.361739\n",
      "18     0.247942\n",
      "55     0.460650\n",
      "75    -0.649499\n",
      "150   -0.412885\n",
      "         ...   \n",
      "106    0.183263\n",
      "14     0.113212\n",
      "92     0.049520\n",
      "179    0.048537\n",
      "102   -0.518237\n",
      "Name: Sales, Length: 170, dtype: float64\n",
      "R2:\n",
      " 0.8936793584593189\n"
     ]
    }
   ],
   "source": [
    "y_hat_50000 = predict(weights2[-1], x_train)\n",
    "r2_score(y_train, y_hat_50000)\n",
    "print(\"Error: \\n\", y_train - y_hat_50000)\n",
    "print(\"R2:\\n\", r2_score(y_train, y_hat_50000))"
   ]
  },
  {
   "cell_type": "markdown",
   "id": "09bf67de",
   "metadata": {},
   "source": [
    "<b>As seen in the figures, costs decrease as the number of iterations increase. Each model's errors between y train and predicted y decrease as well. The R2 score increases as the model is iterated more times, but the differences between models with 1000 and 5000 iterations are so minor that we may conclude that 1000 iterations are more than sufficient.</b>"
   ]
  },
  {
   "cell_type": "markdown",
   "id": "b12435b6",
   "metadata": {},
   "source": [
    "<i>4. Once you determine the optimal number of iterations, check the effect on the cost and error as you change the learning rate. The common learning rates in machine learning include 0.1, 0.01, 0.001, 0.0001, 0.2 but you have the option to include others. Visualizethe cost function (vs the optimal number of iterations) of each learning rate in ONLY ONE PLOT. Provide your analysis.</i>"
   ]
  },
  {
   "cell_type": "code",
   "execution_count": 55,
   "id": "5af8f18e",
   "metadata": {},
   "outputs": [],
   "source": [
    "weight_1, cost_1 = grad_descent(x_train, y_train, 500, 0.1)\n",
    "weight_01, cost_01 = grad_descent(x_train, y_train, 500, 0.01)\n",
    "weight_001, cost_001 = grad_descent(x_train, y_train, 500, 0.001)\n",
    "weight_0001, cost_0001 = grad_descent(x_train, y_train, 500, 0.0001)\n",
    "weight_2, cost_2 = grad_descent(x_train, y_train, 500, 0.2)"
   ]
  },
  {
   "cell_type": "code",
   "execution_count": 56,
   "id": "5504453a",
   "metadata": {},
   "outputs": [],
   "source": [
    "cost_1 = pd.DataFrame(cost_1, columns=['Cost'])\n",
    "cost_01 = pd.DataFrame(cost_01, columns=['Cost'])\n",
    "cost_001 = pd.DataFrame(cost_001, columns=['Cost'])\n",
    "cost_0001 = pd.DataFrame(cost_0001, columns=['Cost'])\n",
    "cost_2 = pd.DataFrame(cost_2, columns=['Cost'])\n",
    "\n",
    "df_costs = pd.concat([cost_1, cost_01, cost_001, cost_0001, cost_2], axis=1, keys=['0.1', '0.01', '0.001', '0.0001', '0.2'])"
   ]
  },
  {
   "cell_type": "code",
   "execution_count": 57,
   "id": "d4eff801",
   "metadata": {},
   "outputs": [
    {
     "data": {
      "image/png": "[encoded data removed]",
      "text/plain": [
       "<Figure size 1152x576 with 1 Axes>"
      ]
     },
     "metadata": {
      "needs_background": "light"
     },
     "output_type": "display_data"
    }
   ],
   "source": [
    "# define dimensions\n",
    "fig, ax = plt.subplots(figsize=(16, 8))\n",
    "plt.xlabel(\"Number of Iterations\")\n",
    "plt.ylabel(\"Cost\")\n",
    "# call lineplot of seaborn\n",
    "sns.lineplot(data=df_costs, ax=ax, palette=['r', 'g', 'b', 'y', '#a1c9f4'], )\n",
    "plt.show()"
   ]
  },
  {
   "cell_type": "markdown",
   "id": "8486ae68",
   "metadata": {},
   "source": [
    "<b>The cost of the model produced via gradient descent stays high when the learning rate is too low, such as 0.0001 or 0.001. When the learning rate is too high, such as 0.2 or 0.1, however, the cost function returns too steeply and is not the proper learning rate for the number of repetitions given since it takes an excessively large step with each iteration. If the learning rate is just appropriate, say 0.01 for our dataset, you can observe how the costs vary gradually with each iteration and how they decrease until they hit a significant minimum.</b>\n"
   ]
  },
  {
   "cell_type": "markdown",
   "id": "42791d29",
   "metadata": {},
   "source": [
    "<i>5. Is there a relationship on the learning rate and the number of iterations?<i>"
   ]
  },
  {
   "cell_type": "markdown",
   "id": "8c2e0c5f",
   "metadata": {},
   "source": [
    "When the learning rate is too low, it will take a lot more iterations to create a model that provides the lowest possible cost, which consumes an excessive amount of time and resources. Gradient descent will not be able to provide you with a model that generates the minimal cost if the number of iterations is too little and the learning rate is high since it may take too huge of steps and skip over the minimum cost or may not even get there. To ensure that the projected weights for each iteration only change gradually and finally achieve the lowest cost, you must substantially increase the number of iterations when you significantly lower the learning rate."
   ]
  },
  {
   "cell_type": "markdown",
   "id": "1dfe05c3",
   "metadata": {},
   "source": [
    "<i>6. Compare the results with the results of ordinary least squares function.</i>"
   ]
  },
  {
   "cell_type": "code",
   "execution_count": 58,
   "id": "dab80796",
   "metadata": {},
   "outputs": [
    {
     "name": "stdout",
     "output_type": "stream",
     "text": [
      "OLS predictions:  [ 0.44441111  1.30168679  1.43691235 -0.66730857  1.55533551 -0.19033088\n",
      "  1.34451196 -1.25613029 -0.07239572  0.21395403 -0.9477649  -1.4143734\n",
      "  0.04187445 -0.9794427  -0.82941714 -0.35860114 -1.02352749  0.43360346\n",
      " -0.72253191  0.92669059  1.04134773 -0.18638735 -0.32341141  1.3765889\n",
      " -1.1785509  -1.57241482  1.28461088 -0.38557956 -0.92832092 -1.05226106]\n"
     ]
    }
   ],
   "source": [
    "print(\"OLS predictions: \", pred)"
   ]
  },
  {
   "cell_type": "code",
   "execution_count": 59,
   "id": "85452340",
   "metadata": {},
   "outputs": [
    {
     "name": "stdout",
     "output_type": "stream",
     "text": [
      "Scratch Gradient Descent Predictions:  [ 0.45608244  1.28515934  1.42347461 -0.64921566  1.47879146 -0.1706977\n",
      "  1.30218704 -1.2362777  -0.07207615  0.2136751  -0.96180887 -1.37448756\n",
      "  0.1189018  -0.98942856 -0.80008631 -0.33271478 -0.99613887  0.40986922\n",
      " -0.70366205  0.88741908  1.06547073 -0.10087422 -0.35064106  1.38933658\n",
      " -1.17734202 -1.53583278  1.2513131  -0.39221506 -0.90608362 -1.06675884]\n"
     ]
    }
   ],
   "source": [
    "print(\"Scratch Gradient Descent Predictions: \", y_hat_2)"
   ]
  },
  {
   "cell_type": "code",
   "execution_count": 60,
   "id": "c29f9eab",
   "metadata": {},
   "outputs": [
    {
     "name": "stdout",
     "output_type": "stream",
     "text": [
      "Ordinary least squares function R2 score:\n",
      " 0.8936793584593189\n"
     ]
    }
   ],
   "source": [
    "print(\"Ordinary least squares function R2 score:\\n\", r_2)"
   ]
  },
  {
   "cell_type": "code",
   "execution_count": 61,
   "id": "1bf8d204",
   "metadata": {},
   "outputs": [
    {
     "name": "stdout",
     "output_type": "stream",
     "text": [
      "Gradient descent R2 score:\n",
      " 0.9065041410827248\n"
     ]
    }
   ],
   "source": [
    "print(\"Gradient descent R2 score:\\n\", r2_score(y_test, y_hat_2))"
   ]
  },
  {
   "cell_type": "markdown",
   "id": "e1ee9de6",
   "metadata": {},
   "source": [
    "You may argue that the scratch code performed better since it has a higher R2 score based on the R2 scores of the gradient descent from scratch and the OLS function of scikit-learn."
   ]
  },
  {
   "cell_type": "code",
   "execution_count": null,
   "id": "562e9131",
   "metadata": {},
   "outputs": [],
   "source": []
  }
 ],
 "metadata": {
  "kernelspec": {
   "display_name": "Python 3 (ipykernel)",
   "language": "python",
   "name": "python3"
  },
  "language_info": {
   "codemirror_mode": {
    "name": "ipython",
    "version": 3
   },
   "file_extension": ".py",
   "mimetype": "text/x-python",
   "name": "python",
   "nbconvert_exporter": "python",
   "pygments_lexer": "ipython3",
   "version": "3.9.12"
  }
 },
 "nbformat": 4,
 "nbformat_minor": 5
}
