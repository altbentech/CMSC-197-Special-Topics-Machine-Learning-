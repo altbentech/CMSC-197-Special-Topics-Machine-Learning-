{
 "cells": [
  {
   "cell_type": "markdown",
   "id": "81e5e5c4",
   "metadata": {},
   "source": [
    "### Name: Benjie Gonzales Jr."
   ]
  },
  {
   "cell_type": "markdown",
   "id": "aae379a1",
   "metadata": {},
   "source": [
    "# CMSC 197 - Quiz 1"
   ]
  },
  {
   "cell_type": "markdown",
   "id": "a1f11d97",
   "metadata": {},
   "source": [
    "## Part 1."
   ]
  },
  {
   "cell_type": "markdown",
   "id": "d878f5ec",
   "metadata": {},
   "source": [
    "• Importing important libraries by the use of the **import** function"
   ]
  },
  {
   "cell_type": "code",
   "execution_count": 1,
   "id": "092c1057",
   "metadata": {},
   "outputs": [],
   "source": [
    "import numpy as np\n",
    "import pandas as pd\n",
    "import matplotlib as plt"
   ]
  },
  {
   "cell_type": "code",
   "execution_count": 4,
   "id": "2b9b270d",
   "metadata": {},
   "outputs": [
    {
     "name": "stdout",
     "output_type": "stream",
     "text": [
      "%pylab is deprecated, use %matplotlib inline and import the required libraries.\n",
      "Populating the interactive namespace from numpy and matplotlib\n"
     ]
    }
   ],
   "source": [
    "%pylab inline"
   ]
  },
  {
   "cell_type": "markdown",
   "id": "49722a70",
   "metadata": {},
   "source": [
    "Creating 2 1D arrays, y_hat and y"
   ]
  },
  {
   "cell_type": "code",
   "execution_count": 122,
   "id": "b049ffb2",
   "metadata": {},
   "outputs": [],
   "source": [
    "y_hat = np.array([30]);\n",
    "y = np.array([40]);"
   ]
  },
  {
   "cell_type": "markdown",
   "id": "b5018fd2",
   "metadata": {},
   "source": [
    "• Initialize y_hat with 20 linearly spaced numbers between -1 and 1"
   ]
  },
  {
   "cell_type": "code",
   "execution_count": 4,
   "id": "74641f5c",
   "metadata": {},
   "outputs": [
    {
     "data": {
      "text/plain": [
       "array([-1.        , -0.89473684, -0.78947368, -0.68421053, -0.57894737,\n",
       "       -0.47368421, -0.36842105, -0.26315789, -0.15789474, -0.05263158,\n",
       "        0.05263158,  0.15789474,  0.26315789,  0.36842105,  0.47368421,\n",
       "        0.57894737,  0.68421053,  0.78947368,  0.89473684,  1.        ])"
      ]
     },
     "execution_count": 4,
     "metadata": {},
     "output_type": "execute_result"
    }
   ],
   "source": [
    "y_hat = np.linspace(-1.0, 1.0, num=20)\n",
    "y_hat"
   ]
  },
  {
   "cell_type": "markdown",
   "id": "5b77730b",
   "metadata": {},
   "source": [
    "• Initialize y with 20 linearly spaced numbers between 0 and 1"
   ]
  },
  {
   "cell_type": "code",
   "execution_count": 3,
   "id": "bc588621",
   "metadata": {},
   "outputs": [
    {
     "data": {
      "text/plain": [
       "array([0.        , 0.05263158, 0.10526316, 0.15789474, 0.21052632,\n",
       "       0.26315789, 0.31578947, 0.36842105, 0.42105263, 0.47368421,\n",
       "       0.52631579, 0.57894737, 0.63157895, 0.68421053, 0.73684211,\n",
       "       0.78947368, 0.84210526, 0.89473684, 0.94736842, 1.        ])"
      ]
     },
     "execution_count": 3,
     "metadata": {},
     "output_type": "execute_result"
    }
   ],
   "source": [
    "y = np.linspace(0.0, 1.0, num=20)\n",
    "y"
   ]
  },
  {
   "cell_type": "markdown",
   "id": "c4ab5f50",
   "metadata": {},
   "source": [
    "• Compute for the shape and dimension of y_hat and y."
   ]
  },
  {
   "cell_type": "code",
   "execution_count": 158,
   "id": "bc403777",
   "metadata": {},
   "outputs": [
    {
     "data": {
      "text/plain": [
       "(20,)"
      ]
     },
     "execution_count": 158,
     "metadata": {},
     "output_type": "execute_result"
    }
   ],
   "source": [
    "y_hat.shape"
   ]
  },
  {
   "cell_type": "code",
   "execution_count": 159,
   "id": "81c53efe",
   "metadata": {},
   "outputs": [
    {
     "data": {
      "text/plain": [
       "(20,)"
      ]
     },
     "execution_count": 159,
     "metadata": {},
     "output_type": "execute_result"
    }
   ],
   "source": [
    "y.shape"
   ]
  },
  {
   "cell_type": "code",
   "execution_count": 160,
   "id": "1bb99e09",
   "metadata": {},
   "outputs": [
    {
     "data": {
      "text/plain": [
       "1"
      ]
     },
     "execution_count": 160,
     "metadata": {},
     "output_type": "execute_result"
    }
   ],
   "source": [
    "y_hat.ndim"
   ]
  },
  {
   "cell_type": "code",
   "execution_count": 161,
   "id": "b403493a",
   "metadata": {},
   "outputs": [
    {
     "data": {
      "text/plain": [
       "1"
      ]
     },
     "execution_count": 161,
     "metadata": {},
     "output_type": "execute_result"
    }
   ],
   "source": [
    "y.ndim"
   ]
  },
  {
   "cell_type": "markdown",
   "id": "e7ec4e2b",
   "metadata": {},
   "source": [
    "Create individual functions for each of the loss functions with y and\n",
    "y_hat as parameters"
   ]
  },
  {
   "cell_type": "markdown",
   "id": "f4532028",
   "metadata": {},
   "source": [
    "### Mean Squared Error"
   ]
  },
  {
   "cell_type": "code",
   "execution_count": 11,
   "id": "6f2c2636",
   "metadata": {},
   "outputs": [
    {
     "name": "stdout",
     "output_type": "stream",
     "text": [
      "0.3421052631578948\n"
     ]
    }
   ],
   "source": [
    "def mean_squared_err(y, y_hat):\n",
    "    MSE = np.square(np.subtract(y, y_hat)).mean()\n",
    "    return MSE\n",
    "print(mean_squared_err(y, y_hat))"
   ]
  },
  {
   "cell_type": "markdown",
   "id": "3e855321",
   "metadata": {},
   "source": [
    "### Mean Absolute Error (MAE)"
   ]
  },
  {
   "cell_type": "code",
   "execution_count": 12,
   "id": "c93570a8",
   "metadata": {},
   "outputs": [
    {
     "name": "stdout",
     "output_type": "stream",
     "text": [
      "0.4999999999999999\n"
     ]
    }
   ],
   "source": [
    "def mean_abs_err(y, y_hat):\n",
    "    MAE = abs(np.subtract(y, y_hat)).mean()\n",
    "    return MAE\n",
    "print(mean_abs_err(y, y_hat))\n",
    "    "
   ]
  },
  {
   "cell_type": "markdown",
   "id": "387af208",
   "metadata": {},
   "source": [
    "### Mean Squared Logarithmic Error:"
   ]
  },
  {
   "cell_type": "code",
   "execution_count": 38,
   "id": "af3c16fa",
   "metadata": {},
   "outputs": [
    {
     "name": "stdout",
     "output_type": "stream",
     "text": [
      "Some values are invalid. Could not perform operation.\n"
     ]
    }
   ],
   "source": [
    "def mean_squared_log_err(y, y_hat):\n",
    "    if all(y_hat >= 0) == True and all(y >= 0) == True:\n",
    "        MSLE = np.mean((np.log(y + 1) - np.log(y_hat + 1))**2)\n",
    "        return MSLE\n",
    "    else:\n",
    "        invalid = \"Some values are invalid. Could not perform operation.\"\n",
    "        return invalid\n",
    "\n",
    "print(mean_squared_log_err(y, y_hat))"
   ]
  },
  {
   "cell_type": "markdown",
   "id": "92954bfb",
   "metadata": {},
   "source": [
    "## Mean Absolute Percentage Error:"
   ]
  },
  {
   "cell_type": "code",
   "execution_count": 39,
   "id": "0cdbcdbb",
   "metadata": {},
   "outputs": [
    {
     "name": "stdout",
     "output_type": "stream",
     "text": [
      "Some values are invalid. Could not perform operation.\n"
     ]
    }
   ],
   "source": [
    "def mean_abs_perc_err(y, y_hat):\n",
    "    if all(y) == False:\n",
    "        invalid = \"Some values are invalid. Could not perform operation.\"\n",
    "        return invalid\n",
    "    else:\n",
    "        MAPE = np.mean(np.abs((y - y_hat)/y))*100\n",
    "        return MAPE\n",
    "print(mean_abs_perc_err(y, y_hat))"
   ]
  },
  {
   "cell_type": "markdown",
   "id": "119be73d",
   "metadata": {},
   "source": [
    " ## Each function should return the loss value (L)"
   ]
  },
  {
   "cell_type": "code",
   "execution_count": 21,
   "id": "6bb9f976",
   "metadata": {},
   "outputs": [
    {
     "name": "stdout",
     "output_type": "stream",
     "text": [
      "Mean squared error is: 0.3421052631578948\n",
      "Mean absolute error is: 0.4999999999999999\n",
      "Mean absolute error 2nd version in is: 0.9499999999999998\n",
      "Mean squared logarithmic error is:  Some values are invalid\n",
      "Mean absolute percent error is:  Some values are invalid\n"
     ]
    }
   ],
   "source": [
    "print(\"Mean squared error is:\", end=\" \")\n",
    "print(mean_squared_err(y, y_hat))\n",
    "print(\"Mean absolute error is:\", end=\" \")\n",
    "print(mean_abs_err(y, y_hat))\n",
    "print(\"Mean absolute error 2nd version in is:\", end=\" \")\n",
    "print(mean_abs_err2(y, y_hat))\n",
    "print(\"Mean squared logarithmic error is: \", end=\" \")\n",
    "print(mean_squared_log_err(y, y_hat))\n",
    "print(\"Mean absolute percent error is: \", end=\" \")\n",
    "print(mean_abs_perc_err(y, y_hat))"
   ]
  },
  {
   "cell_type": "markdown",
   "id": "507c99e1",
   "metadata": {},
   "source": [
    "## Part 2."
   ]
  },
  {
   "cell_type": "code",
   "execution_count": 26,
   "id": "86d132b5",
   "metadata": {},
   "outputs": [],
   "source": [
    "import pandas as pd\n",
    "import numpy as np"
   ]
  },
  {
   "cell_type": "markdown",
   "id": "f2206fab",
   "metadata": {},
   "source": [
    "### 1. Create a 1d array M {1, 2, …16} using the arange function"
   ]
  },
  {
   "cell_type": "code",
   "execution_count": 27,
   "id": "8da3634a",
   "metadata": {
    "scrolled": true
   },
   "outputs": [
    {
     "data": {
      "text/plain": [
       "array([ 1,  2,  3,  4,  5,  6,  7,  8,  9, 10, 11, 12, 13, 14, 15, 16])"
      ]
     },
     "execution_count": 27,
     "metadata": {},
     "output_type": "execute_result"
    }
   ],
   "source": [
    "M = np.arange(1, 17)\n",
    "M"
   ]
  },
  {
   "cell_type": "markdown",
   "id": "b632c631",
   "metadata": {},
   "source": [
    "### 2. Reshape M into 4x4 array and store it to N"
   ]
  },
  {
   "cell_type": "code",
   "execution_count": 28,
   "id": "64b471b7",
   "metadata": {},
   "outputs": [
    {
     "data": {
      "text/plain": [
       "array([[ 1,  2,  3,  4],\n",
       "       [ 5,  6,  7,  8],\n",
       "       [ 9, 10, 11, 12],\n",
       "       [13, 14, 15, 16]])"
      ]
     },
     "execution_count": 28,
     "metadata": {},
     "output_type": "execute_result"
    }
   ],
   "source": [
    "N = M.reshape(4, 4);\n",
    "N"
   ]
  },
  {
   "cell_type": "markdown",
   "id": "d13436e7",
   "metadata": {},
   "source": [
    "### 3. Get the 2nd row of N"
   ]
  },
  {
   "cell_type": "code",
   "execution_count": 34,
   "id": "6caea450",
   "metadata": {},
   "outputs": [
    {
     "data": {
      "text/plain": [
       "array([5, 6, 7, 8])"
      ]
     },
     "execution_count": 34,
     "metadata": {},
     "output_type": "execute_result"
    }
   ],
   "source": [
    "N[1]"
   ]
  },
  {
   "cell_type": "markdown",
   "id": "bc022bba",
   "metadata": {},
   "source": [
    "### 4. Get the minimum values for each column of N"
   ]
  },
  {
   "cell_type": "code",
   "execution_count": 29,
   "id": "e09d11fb",
   "metadata": {},
   "outputs": [
    {
     "data": {
      "text/plain": [
       "array([1, 2, 3, 4])"
      ]
     },
     "execution_count": 29,
     "metadata": {},
     "output_type": "execute_result"
    }
   ],
   "source": [
    "np.min(N, axis = 0)"
   ]
  },
  {
   "cell_type": "markdown",
   "id": "6c73b035",
   "metadata": {},
   "source": [
    "### 5. Get the locations of the minimum values for each column of N"
   ]
  },
  {
   "cell_type": "code",
   "execution_count": 35,
   "id": "fe13c7ad",
   "metadata": {},
   "outputs": [
    {
     "data": {
      "text/plain": [
       "array([0, 0, 0, 0], dtype=int64)"
      ]
     },
     "execution_count": 35,
     "metadata": {},
     "output_type": "execute_result"
    }
   ],
   "source": [
    "np.argmin(N, axis=0)"
   ]
  },
  {
   "cell_type": "markdown",
   "id": "8239bdf1",
   "metadata": {},
   "source": [
    "### 6. Get the average of the whole matrix"
   ]
  },
  {
   "cell_type": "code",
   "execution_count": 36,
   "id": "6120b237",
   "metadata": {},
   "outputs": [
    {
     "data": {
      "text/plain": [
       "8.5"
      ]
     },
     "execution_count": 36,
     "metadata": {},
     "output_type": "execute_result"
    }
   ],
   "source": [
    "N.mean()"
   ]
  },
  {
   "cell_type": "markdown",
   "id": "6f6d8fc5",
   "metadata": {},
   "source": [
    "### 7. Create a vector V with 4 elements, each element is 1"
   ]
  },
  {
   "cell_type": "code",
   "execution_count": 66,
   "id": "9740330a",
   "metadata": {},
   "outputs": [
    {
     "data": {
      "text/plain": [
       "array([10, 26, 42, 58])"
      ]
     },
     "execution_count": 66,
     "metadata": {},
     "output_type": "execute_result"
    }
   ],
   "source": [
    "V = np.array([1, 1, 1, 1]);"
   ]
  },
  {
   "cell_type": "markdown",
   "id": "88594afe",
   "metadata": {},
   "source": [
    "### 8. Take the dot product of N and V"
   ]
  },
  {
   "cell_type": "code",
   "execution_count": null,
   "id": "75b24691",
   "metadata": {},
   "outputs": [],
   "source": [
    "np.dot(N, V)"
   ]
  }
 ],
 "metadata": {
  "kernelspec": {
   "display_name": "Python 3 (ipykernel)",
   "language": "python",
   "name": "python3"
  },
  "language_info": {
   "codemirror_mode": {
    "name": "ipython",
    "version": 3
   },
   "file_extension": ".py",
   "mimetype": "text/x-python",
   "name": "python",
   "nbconvert_exporter": "python",
   "pygments_lexer": "ipython3",
   "version": "3.9.12"
  }
 },
 "nbformat": 4,
 "nbformat_minor": 5
}
